{
 "cells": [
  {
   "cell_type": "code",
   "execution_count": null,
   "id": "370f3ef2-708f-40f5-bccc-a3ef2e08d780",
   "metadata": {},
   "outputs": [],
   "source": [
    "Конкурентность\n",
    "Конкурентность относится к способности программы выполнять несколько задач \n",
    "одновременно, но не обязательно одновременно. \n",
    "В Python конкурентность часто реализуется с помощью потоков (threads) или асинхронного программирования (asyncio).\n",
    "\n",
    "Потоки (Threads)\n",
    "Модуль threading позволяет запускать несколько потоков внутри одного процесса. \n",
    "Это удобно для задач, связанных с вводом-выводом \n",
    "(I/O-bound), таких как работа с файлами, сетевыми запросами и т.д.\n",
    "\n",
    "Пример использования потоков:"
   ]
  },
  {
   "cell_type": "code",
   "execution_count": 1,
   "id": "90df758e-434f-4bab-80a4-470fddbf0e83",
   "metadata": {},
   "outputs": [
    {
     "name": "stdout",
     "output_type": "stream",
     "text": [
      "thread Thread-0 start to work\n",
      "thread Thread-1 start to work\n",
      "thread Thread-2 start to work\n",
      "thread Thread-0 stop to work\n",
      "thread Thread-1 stop to work\n",
      "thread Thread-2 stop to work\n"
     ]
    }
   ],
   "source": [
    "import threading\n",
    "import time\n",
    "\n",
    "def worker(name):\n",
    "    print(f'thread {name} start to work')\n",
    "    time.sleep(2)\n",
    "    print(f'thread {name} stop to work')\n",
    "\n",
    "threads = []\n",
    "for i in range(3):\n",
    "    t = threading.Thread(target = worker, args=(f'Thread-{i}',))\n",
    "    threads.append(t)\n",
    "    t.start()\n",
    "\n",
    "for t in threads:\n",
    "    t.join()\n"
   ]
  },
  {
   "cell_type": "code",
   "execution_count": null,
   "id": "6979df27-de4e-4215-9638-3db9e9b28338",
   "metadata": {},
   "outputs": [],
   "source": [
    "Особенности:\n",
    "\n",
    "Потоки делят одно пространство памяти, что облегчает обмен данными между ними.\n",
    "Из-за GIL (см. ниже) потоки в Python не обеспечивают истинного параллелизма для задач, требующих \n",
    "    интенсивных вычислений."
   ]
  },
  {
   "cell_type": "code",
   "execution_count": null,
   "id": "b7345156-203b-4b36-befc-a71ce7a1be23",
   "metadata": {},
   "outputs": [],
   "source": [
    "Асинхронное программирование (asyncio)\n",
    "Модуль asyncio позволяет писать асинхронный код, который может эффективно управлять большим количеством \n",
    "задач ввода-вывода без \n",
    "необходимости создавать отдельные потоки или процессы.\n",
    "\n",
    "Пример использования asyncio:"
   ]
  },
  {
   "cell_type": "code",
   "execution_count": 4,
   "id": "1b4d94f3-e384-4e6e-a96a-f60bacac048a",
   "metadata": {},
   "outputs": [
    {
     "ename": "RuntimeError",
     "evalue": "asyncio.run() cannot be called from a running event loop",
     "output_type": "error",
     "traceback": [
      "\u001b[1;31m---------------------------------------------------------------------------\u001b[0m",
      "\u001b[1;31mRuntimeError\u001b[0m                              Traceback (most recent call last)",
      "Cell \u001b[1;32mIn[4], line 12\u001b[0m\n\u001b[0;32m      9\u001b[0m     \u001b[38;5;28;01mawait\u001b[39;00m asyncio\u001b[38;5;241m.\u001b[39mgather(\u001b[38;5;241m*\u001b[39mtasks)\n\u001b[0;32m     11\u001b[0m \u001b[38;5;28;01mif\u001b[39;00m \u001b[38;5;18m__name__\u001b[39m \u001b[38;5;241m==\u001b[39m \u001b[38;5;124m\"\u001b[39m\u001b[38;5;124m__main__\u001b[39m\u001b[38;5;124m\"\u001b[39m:\n\u001b[1;32m---> 12\u001b[0m     asyncio\u001b[38;5;241m.\u001b[39mrun(main())\n",
      "File \u001b[1;32mE:\\anaconda\\Lib\\asyncio\\runners.py:186\u001b[0m, in \u001b[0;36mrun\u001b[1;34m(main, debug)\u001b[0m\n\u001b[0;32m    161\u001b[0m \u001b[38;5;250m\u001b[39m\u001b[38;5;124;03m\"\"\"Execute the coroutine and return the result.\u001b[39;00m\n\u001b[0;32m    162\u001b[0m \n\u001b[0;32m    163\u001b[0m \u001b[38;5;124;03mThis function runs the passed coroutine, taking care of\u001b[39;00m\n\u001b[1;32m   (...)\u001b[0m\n\u001b[0;32m    182\u001b[0m \u001b[38;5;124;03m    asyncio.run(main())\u001b[39;00m\n\u001b[0;32m    183\u001b[0m \u001b[38;5;124;03m\"\"\"\u001b[39;00m\n\u001b[0;32m    184\u001b[0m \u001b[38;5;28;01mif\u001b[39;00m events\u001b[38;5;241m.\u001b[39m_get_running_loop() \u001b[38;5;129;01mis\u001b[39;00m \u001b[38;5;129;01mnot\u001b[39;00m \u001b[38;5;28;01mNone\u001b[39;00m:\n\u001b[0;32m    185\u001b[0m     \u001b[38;5;66;03m# fail fast with short traceback\u001b[39;00m\n\u001b[1;32m--> 186\u001b[0m     \u001b[38;5;28;01mraise\u001b[39;00m \u001b[38;5;167;01mRuntimeError\u001b[39;00m(\n\u001b[0;32m    187\u001b[0m         \u001b[38;5;124m\"\u001b[39m\u001b[38;5;124masyncio.run() cannot be called from a running event loop\u001b[39m\u001b[38;5;124m\"\u001b[39m)\n\u001b[0;32m    189\u001b[0m \u001b[38;5;28;01mwith\u001b[39;00m Runner(debug\u001b[38;5;241m=\u001b[39mdebug) \u001b[38;5;28;01mas\u001b[39;00m runner:\n\u001b[0;32m    190\u001b[0m     \u001b[38;5;28;01mreturn\u001b[39;00m runner\u001b[38;5;241m.\u001b[39mrun(main)\n",
      "\u001b[1;31mRuntimeError\u001b[0m: asyncio.run() cannot be called from a running event loop"
     ]
    }
   ],
   "source": [
    "import asyncio\n",
    "async def worker(name):\n",
    "    print(f'thread {name} start to work')\n",
    "    await asyncio.sleep(2)\n",
    "    print(f'thread {name} stop to work')\n",
    "\n",
    "async def main():\n",
    "    tasks = [worker(f'Thread-{i}') for i in range(3)]\n",
    "    await asyncio.gather(*tasks)\n",
    "\n",
    "if __name__ == \"__main__\":\n",
    "    asyncio.run(main())\n"
   ]
  },
  {
   "cell_type": "code",
   "execution_count": null,
   "id": "08b1acbe-c33c-4f09-8ab0-b304a6c989be",
   "metadata": {},
   "outputs": [],
   "source": [
    "Параллелизм\n",
    "Параллелизм подразумевает одновременное выполнение нескольких задач на разных ядрах процессора. \n",
    "В Python параллелизм достигается\n",
    "с помощью процессов, поскольку каждый процесс имеет свой собственный интерпретатор и память, обходя ограничения GIL.\n",
    "\n",
    "Многопроцессность (Multiprocessing)\n",
    "Модуль multiprocessing позволяет создавать отдельные процессы, которые могут выполняться параллельно\n",
    "на разных ядрах.\n",
    "\n",
    "Пример использования multiprocessing:"
   ]
  },
  {
   "cell_type": "code",
   "execution_count": null,
   "id": "c04c1d1b-472a-4a9e-8c6f-be5591b68461",
   "metadata": {},
   "outputs": [],
   "source": [
    "from multiprocessing import Process\n",
    "import time\n",
    "\n",
    "def worker(name):\n",
    "    print(f'thread {name} start to work')\n",
    "    time.sleep(2)\n",
    "    print(f'thread {name} stop to work')\n",
    "\n",
    "processes = []\n",
    "for i in range(3):\n",
    "    p = Process(target = worker, args=(f'Thread-{i}',))\n",
    "    processes.append(p)\n",
    "    p.start()\n",
    "\n",
    "for p in processes:\n",
    "    p.join()"
   ]
  },
  {
   "cell_type": "code",
   "execution_count": null,
   "id": "d2a930ed-b063-4279-bf39-b397142bf706",
   "metadata": {},
   "outputs": [],
   "source": [
    "Глобальная блокировка интерпретатора (GIL)\n",
    "Одной из ключевых особенностей Python (особенно CPython) является GIL — механизм, который предотвращает \n",
    "одновременное выполнение нескольких потоков байт-кода Python. Это означает, что даже если у вас несколько потоков, только один из них выполняется \n",
    "в каждый момент времени. GIL ограничивает эффективность многопоточных программ для CPU-bound задач, но не влияет на I/O-bound задачи.\n",
    "\n",
    "Влияние GIL:\n",
    "\n",
    "I/O-bound задачи: Потоки все равно могут быть полезны, так как большая часть времени тратится на ожидание ввода-вывода.\n",
    "CPU-bound задачи: Для повышения производительности лучше использовать многопроцессность.\n",
    "Выбор между конкурентностью и параллелизмом\n",
    "I/O-bound задачи: Рекомендуется использовать многопоточность (threading) или асинхронное программирование (asyncio).\n",
    "CPU-bound задачи: Рекомендуется использовать многопроцессность (multiprocessing)."
   ]
  },
  {
   "cell_type": "code",
   "execution_count": null,
   "id": "6a039243-d39c-4c7a-933e-04b02d84f1b9",
   "metadata": {},
   "outputs": [],
   "source": [
    "I/O-bound и CPU-bound задачи в Python\n",
    "В программировании задачи часто классифицируют как I/O-bound (зависимые от ввода-вывода) или CPU-bound (зависимые от процессора). \n",
    "Понимание различий между ними критично для выбора подходящих инструментов и методов оптимизации в Python.\n",
    "\n",
    "I/O-bound задачи\n",
    "I/O-bound задачи — это те, которые ограничены скоростью операций ввода-вывода. Такие задачи проводят большую часть времени в ожидании \n",
    "завершения операций чтения/записи данных, сетевых запросов, работы с файлами и т.д.\n",
    "\n",
    "Примеры I/O-bound задач:\n",
    "\n",
    "Обработка сетевых запросов (например, веб-серверы)\n",
    "Чтение и запись файлов на диск\n",
    "Взаимодействие с базами данных\n",
    "Ожидание ответов от внешних API\n",
    "Особенности:\n",
    "\n",
    "Время выполнения задачи определяется временем ожидания операций ввода-вывода.\n",
    "Такие задачи могут эффективно использовать конкурентные подходы, такие как многопоточность или асинхронное программирование, для улучшения производительности.\n",
    "Пример использования asyncio для I/O-bound задачи:"
   ]
  },
  {
   "cell_type": "code",
   "execution_count": null,
   "id": "4b198ab2-540f-4273-adc6-5484a5920af0",
   "metadata": {},
   "outputs": [],
   "source": []
  },
  {
   "cell_type": "code",
   "execution_count": null,
   "id": "c462f28f-ff3d-49a6-9854-63c9bd6fd03c",
   "metadata": {},
   "outputs": [],
   "source": [
    "CPU-bound задачи\n",
    "CPU-bound задачи — это задачи, которые требуют интенсивных вычислений и максимально используют возможности процессора. \n",
    "Время выполнения таких задач определяется скоростью обработки данных процессором.\n",
    "\n",
    "Примеры CPU-bound задач:\n",
    "\n",
    "Обработка изображений и видео\n",
    "Криптографические вычисления\n",
    "Машинное обучение и научные вычисления\n",
    "Сложные математические расчёты\n",
    "Особенности:\n",
    "\n",
    "Такие задачи требуют эффективного использования процессорных ресурсов.\n",
    "Для повышения производительности лучше использовать параллелизм, например, многопроцессность, \n",
    "чтобы задействовать несколько ядер процессора.\n",
    "Пример использования multiprocessing для CPU-bound задачи:"
   ]
  },
  {
   "cell_type": "code",
   "execution_count": null,
   "id": "1e742411-9926-479f-a0f7-3b62c0a21d6b",
   "metadata": {},
   "outputs": [],
   "source": [
    "import asyncio\n",
    "import aiohttp\n",
    "\n",
    "async def fetch_url(session, url):\n",
    "    async with session.get(url) as response:\n",
    "        return await response.text()\n",
    "\n",
    "async def main():\n",
    "    urls = [\n",
    "        ...,\n",
    "        ...,\n",
    "        ...\n",
    "    ]\n",
    "\n",
    "    async with aiohttp.ClientSession() as session:\n",
    "        tasks = [fetch_url(session, url) for url in urls]\n",
    "        content = await asyncio.gather(*taks)\n",
    "        for content in contents:\n",
    "            print(...)\n",
    "\n",
    "if __name__ == \"__main__\":\n",
    "    asuncio.run(main())"
   ]
  },
  {
   "cell_type": "code",
   "execution_count": null,
   "id": "d9e1cc6b-65d2-44a3-82d1-223e93b8845d",
   "metadata": {},
   "outputs": [],
   "source": [
    "Влияние GIL на выбор подхода\n",
    "GIL (Global Interpreter Lock) в CPython ограничивает выполнение байт-кода Python одним потоком одновременно. Это означает, что многопоточность \n",
    "не может эффективно использовать несколько ядер процессора для CPU-bound задач. Поэтому для таких задач предпочтительнее использовать многопроцессность.\n",
    "\n",
    "Однако для I/O-bound задач GIL не является серьезным ограничением, поскольку большая часть времени тратится на ожидание ввода-вывода,\n",
    "и другие потоки могут выполняться во время этого ожидания."
   ]
  },
  {
   "cell_type": "code",
   "execution_count": null,
   "id": "cab7c93b-04dc-4263-8b3c-edc734e7d47a",
   "metadata": {},
   "outputs": [],
   "source": [
    "from multiprocessing import Pool\n",
    "import math\n",
    "\n",
    "def compute_factorial(n):\n",
    "    return math.factorial(n)\n",
    "\n",
    "if __name__ == '__main__':\n",
    "    numbers = [1000000,2000000, 3000000]\n",
    "    with Pool(processes=3) as pool:\n",
    "        results = pool.map(compute_factorial, numbers)\n",
    "    for num, fuct in zip(numbers, results):\n",
    "        print(...)\n"
   ]
  },
  {
   "cell_type": "code",
   "execution_count": null,
   "id": "150d35aa-4777-42ab-835f-7d4aefc0ca4b",
   "metadata": {},
   "outputs": [],
   "source": [
    "Запуск потоков и использование блокировок в Python\n",
    "В Python модуль threading предоставляет инструменты для работы с потоками и управления синхронизацией между ними.\n",
    "В этом разделе мы рассмотрим, как запускать потоки, использовать блокировки (Locks) для предотвращения гонок данных и управлять доступом к разделяемым ресурсам.\n",
    "\n",
    "Запуск потоков\n",
    "Для создания и запуска потоков в Python используется класс Thread из модуля threading. Каждый поток выполняет определенную функцию или метод.\n",
    "\n",
    "Простой пример запуска потоков:"
   ]
  },
  {
   "cell_type": "code",
   "execution_count": null,
   "id": "c6f6a56f-efc2-4739-808d-a278f6862ec7",
   "metadata": {},
   "outputs": [],
   "source": []
  },
  {
   "cell_type": "code",
   "execution_count": null,
   "id": "394ed616-7645-420d-9b6a-1909dc9515d7",
   "metadata": {},
   "outputs": [],
   "source": [
    "Блокировки (Locks)\n",
    "При работе с несколькими потоками важно контролировать доступ к разделяемым ресурсам\n",
    "(например, переменным, файлам, базам данных), \n",
    "чтобы избежать гонок данных (race conditions). Для этого используются блокировки.\n",
    "\n",
    "Пример использования Lock для предотвращения гонок данных:"
   ]
  },
  {
   "cell_type": "code",
   "execution_count": null,
   "id": "abb78938-0019-4cf9-b775-8aa29f29cb43",
   "metadata": {},
   "outputs": [],
   "source": [
    "import threading\n",
    "counter = 0\n",
    "\n",
    "lock = threading.lock()\n",
    "\n",
    "def inc():\n",
    "    global counter\n",
    "    for _ in range(10000):\n",
    "        lock.acquire()\n",
    "        try:\n",
    "            counter += 1\n",
    "        finally:\n",
    "            lock.release()\n",
    "\n",
    "thread1 = threading.Thread(target=inc)\n",
    "thread2 = threading.Thread(target=inc)\n",
    "\n",
    "thread1.start()\n",
    "thread2.start()\n",
    "\n",
    "thread1.join()\n",
    "thread2.join()\n",
    "\n",
    "\n",
    "\n"
   ]
  },
  {
   "cell_type": "code",
   "execution_count": null,
   "id": "776a12e5-0c98-4a0a-9641-81fd609d1ff1",
   "metadata": {},
   "outputs": [],
   "source": [
    "Использование контекстного менеджера with для работы с блокировками:\n",
    "\n",
    "Блокировки можно использовать с помощью контекстного менеджера with, что делает код более читаемым и безопасным."
   ]
  },
  {
   "cell_type": "code",
   "execution_count": null,
   "id": "0fe844e4-ea65-4e57-8420-793bfa613c8b",
   "metadata": {},
   "outputs": [],
   "source": [
    "import threading\n",
    "counter = 0\n",
    "\n",
    "lock = threading.lock()\n",
    "\n",
    "def inc():\n",
    "    global counter\n",
    "    for _ in range(10000):\n",
    "        lock.acquire()\n",
    "        with lock:\n",
    "            counter +=1\n",
    "\n",
    "thread1 = threading.Thread(target=inc)\n",
    "thread2 = threading.Thread(target=inc)\n",
    "\n",
    "thread1.start()\n",
    "thread2.start()\n",
    "\n",
    "thread1.join()\n",
    "thread2.join()"
   ]
  },
  {
   "cell_type": "code",
   "execution_count": null,
   "id": "4c1303b0-369d-46ef-94f2-2a620921c61e",
   "metadata": {},
   "outputs": [],
   "source": [
    "Другие механизмы синхронизации\n",
    "Помимо Lock, модуль threading предоставляет другие инструменты для синхронизации потоков:\n",
    "\n",
    "RLock (Reentrant Lock): Позволяет одному и тому же потоку несколько раз захватывать блокировку без блокировки самого себя."
   ]
  },
  {
   "cell_type": "code",
   "execution_count": null,
   "id": "4e688737-8acf-475c-9011-731a8744d850",
   "metadata": {},
   "outputs": [],
   "source": [
    "import threading\n",
    "rlock = threading.RLock()\n",
    "\n",
    "def recursive_function(n):\n",
    "    with rlock:\n",
    "        if n>0:\n",
    "           recursive_function(n-1) \n",
    "\n",
    "thread = threading.Thread(target=recursive_function, args=(3,))\n",
    "thread.start()\n",
    "thread.join()"
   ]
  },
  {
   "cell_type": "code",
   "execution_count": null,
   "id": "2dd33c65-b9d5-4375-9702-52f6f8986426",
   "metadata": {},
   "outputs": [],
   "source": [
    "Semaphore: Ограничивает количество потоков, которые могут одновременно выполнять определенный блок кода."
   ]
  },
  {
   "cell_type": "code",
   "execution_count": null,
   "id": "d1995a23-c847-41d4-96fe-49cf3146d0d1",
   "metadata": {},
   "outputs": [],
   "source": [
    "import threading\n",
    "import time\n",
    "\n",
    "\n",
    "semaphore = threading.Semaphore(2)\n",
    "\n",
    "def worker(name):\n",
    "    with semaphore:\n",
    "        print(\"1111\")\n",
    "        time.sleep(2)\n",
    "        print(\"2222\")\n",
    "threads=[]\n",
    "\n",
    "for i in range(5):\n",
    "    t=threading.Thread(target=worker, args=(f'Thread-{i}',))\n",
    "    threads.append(t)\n",
    "    t.start()\n",
    "\n",
    "for t in threads:\n",
    "    t.join()\n",
    "\n",
    "\n",
    "\n",
    "\n"
   ]
  },
  {
   "cell_type": "code",
   "execution_count": null,
   "id": "513971e2-4d70-4399-af30-074cc691a65d",
   "metadata": {},
   "outputs": [],
   "source": [
    "Event: Позволяет одному потоку сигнализировать другим о наступлении определенного события."
   ]
  },
  {
   "cell_type": "code",
   "execution_count": null,
   "id": "6aabaf92-8b7d-487d-8a3f-fba66e979f55",
   "metadata": {},
   "outputs": [],
   "source": [
    "import threading\n",
    "import time\n",
    "\n",
    "event = threading.Event()\n",
    "\n",
    "def waiter():\n",
    "    print(\"wait for event\")\n",
    "    event.wait()\n",
    "    print(\"got event\")\n",
    "\n",
    "def setter():\n",
    "    time.sleep(3)\n",
    "    event.set()\n",
    "    print(\"sended event\")\n",
    "\n",
    "thread_wait = threading.Thread(target = waiter)\n",
    "thread_wset = threading.Thread(target = setter)\n",
    "\n",
    "thread_wait.start()\n",
    "thread_set.start()\n",
    "thread_wait.join()\n",
    "thread_set.join()\n",
    "\n"
   ]
  },
  {
   "cell_type": "code",
   "execution_count": null,
   "id": "c320bc2f-cf31-4912-9048-78415f495825",
   "metadata": {},
   "outputs": [],
   "source": [
    "Избежание взаимоблокировок (Deadlocks)\n",
    "Взаимоблокировка происходит, когда два или более потоков ожидают друг друга,\n",
    "и ни один не может продолжить выполнение. Чтобы избежать взаимоблокировок:\n",
    "\n",
    "Последовательность захвата блокировок: Всегда захватывайте блокировки в одном и том же порядке во всех потоках.\n",
    "\n",
    "Использование таймаутов: При попытке захватить блокировку можно установить таймаут, \n",
    "чтобы избежать бесконечного ожидания."
   ]
  },
  {
   "cell_type": "code",
   "execution_count": null,
   "id": "00e89f65-5b1c-4f5e-a609-11267311e53f",
   "metadata": {},
   "outputs": [],
   "source": [
    "import threading\n",
    "import time\n",
    "\n",
    "lock1 = threading.lock()\n",
    "lock2 = threading.lock()\n",
    "\n",
    "\n",
    "def thread1_func():\n",
    "    while True:\n",
    "        acquired1 = lock1.acquire(timeout=1)\n",
    "        if acquired1:\n",
    "            print('lock 1 acquired')\n",
    "            time.sleep(0.5)\n",
    "            acquired2 = lock2.acquire(timeout=1)\n",
    "            if acquired2:\n",
    "                print('lock 2 acquired')\n",
    "                lock2.release()\n",
    "            lock1.release()\n",
    "            break\n",
    "        else:\n",
    "            print('thread 1 was not able to acquire lock1, lets try again')\n",
    "\n",
    "def thread2_func():\n",
    "    while True:\n",
    "        acquired2 = lock2.acquire(timeout=1)\n",
    "        if acquired2:\n",
    "            print('lock 2 acquired')\n",
    "            time.sleep(0.5)\n",
    "            acquired1 = lock1.acquire(timeout=1)\n",
    "            if acquired1:\n",
    "                print('lock 1 acquired')\n",
    "                lock1.release()\n",
    "            lock2.release()\n",
    "            break\n",
    "        else:\n",
    "            print('thread 2 was not able to acquire lock2, lets try again')\n",
    "\n",
    "t1 = threading.Thread(target=thread1_func)\n",
    "t2 = threading.Thread(target=thread2_func)\n",
    "\n",
    "t1.start()\n",
    "t2.sytart()\n",
    "t1.join()\n",
    "t2.join()\n",
    "\n",
    "            \n",
    "\n"
   ]
  },
  {
   "cell_type": "code",
   "execution_count": null,
   "id": "5e26d551-2dc9-4f36-8c2d-d6f6dd8149c4",
   "metadata": {},
   "outputs": [],
   "source": [
    "Практические рекомендации\n",
    "Минимизируйте область действия блокировок: Захватывайте блокировки только на время, \n",
    "необходимое для защиты критической секции.\n",
    "\n",
    "Используйте высокоуровневые синхронизаторы: Иногда использование таких инструментов, \n",
    "как Queue, может упростить синхронизацию между потоками."
   ]
  },
  {
   "cell_type": "code",
   "execution_count": null,
   "id": "558d418c-e43a-49c1-ae1d-3c8fde151044",
   "metadata": {},
   "outputs": [],
   "source": [
    "import threading\n",
    "import queue\n",
    "import time\n",
    "\n",
    "q = queue.Queue()\n",
    "def producer():\n",
    "    for i in range(5):\n",
    "        item = f'time-{i}'\n",
    "        q.put(item)\n",
    "        print(f'make {item}')\n",
    "        time.sleep(1)\n",
    "\n",
    "def consumer():\n",
    "    while True:\n",
    "        item = q.get()\n",
    "        if item is None:\n",
    "            break\n",
    "        print(f'consume {item}')\n",
    "        q.task_dome()\n",
    "\n",
    "thread_producer = threading.Thread(target=producer)\n",
    "thread_consumer = threading.Thread(target=consumer)\n",
    "\n",
    "thread_producer.start()\n",
    "thread_consumer.start()\n",
    "\n",
    "thread_producer.join()\n",
    "q.put(None)\n",
    "thread_consumer.join()\n",
    "\n",
    "        \n"
   ]
  },
  {
   "cell_type": "code",
   "execution_count": null,
   "id": "4a3fbe97-11dc-4c43-bf4c-ae642c9d57e9",
   "metadata": {},
   "outputs": [],
   "source": [
    "Примитивы синхронизации в Python: от Lock до Barrier\n",
    "В многопоточном программировании примитивы синхронизации играют ключевую роль в управлении доступом \n",
    "к разделяемым ресурсам и координации действий между потоками. \n",
    "В Python модуль threading предоставляет различные примитивы синхронизации, каждый из которых предназначен для решения \n",
    "определённых задач. В этом разделе мы рассмотрим основные примитивы синхронизации: Lock, RLock, Semaphore,\n",
    "BoundedSemaphore, Event, Condition и Barrier.\n",
    "\n",
    "1. Lock (Блокировка)\n",
    "Описание: Lock — самый простой примитив синхронизации, который обеспечивает взаимное исключение (mutex). \n",
    "Он позволяет только \n",
    "одному потоку владеть блокировкой в любой момент времени, предотвращая доступ других потоков к защищённому ресурсу."
   ]
  },
  {
   "cell_type": "code",
   "execution_count": null,
   "id": "2f0f99c6-f0af-4963-8860-74b147d2ce71",
   "metadata": {},
   "outputs": [],
   "source": []
  },
  {
   "cell_type": "code",
   "execution_count": null,
   "id": "0eeb0b56-57ae-4fb2-b2f3-95bcca424c34",
   "metadata": {},
   "outputs": [],
   "source": [
    "2. RLock (Рекурсивная блокировка)\n",
    "Описание: RLock (Reentrant Lock) позволяет одному и тому же потоку несколько раз захватывать блокировку без блокировки самого себя. \n",
    "Это полезно в случаях, когда функция, захватывающая блокировку, вызывает другую функцию, которая также пытается захватить ту же блокировку.\n",
    "\n",
    "Использование:"
   ]
  },
  {
   "cell_type": "code",
   "execution_count": null,
   "id": "f6cda94a-a040-46b1-8bc7-349c5174ac6b",
   "metadata": {},
   "outputs": [],
   "source": []
  },
  {
   "cell_type": "code",
   "execution_count": null,
   "id": "f4a48f5f-3976-488e-af32-bd2737d50753",
   "metadata": {},
   "outputs": [],
   "source": [
    "3. Semaphore (Семафор)\n",
    "Описание: Semaphore ограничивает количество потоков, которые могут одновременно выполнять определённый блок кода или иметь доступ к ресурсу.\n",
    "Это полезно для ограничения количества одновременных подключений к базе данных, доступов к файлам и т.д.\n",
    "\n",
    "Использование:"
   ]
  },
  {
   "cell_type": "code",
   "execution_count": null,
   "id": "76907647-f93b-4e16-83f4-4bbdb3bc5833",
   "metadata": {},
   "outputs": [],
   "source": []
  },
  {
   "cell_type": "code",
   "execution_count": null,
   "id": "6dc22ca5-6e88-451c-aba4-41ecb7a79b80",
   "metadata": {},
   "outputs": [],
   "source": [
    "4. BoundedSemaphore (Ограниченный семафор)\n",
    "Описание: BoundedSemaphore — разновидность Semaphore, которая предотвращает превышение начального значения счётчика. \n",
    "Это помогает обнаружить ошибки, связанные с некорректным освобождением семафора.\n",
    "\n",
    "Использование:"
   ]
  },
  {
   "cell_type": "code",
   "execution_count": null,
   "id": "349abec6-9703-47f2-9eda-ff354bb1aa94",
   "metadata": {},
   "outputs": [],
   "source": [
    "import threading\n",
    "bounded_semaphore = threading.BoundedSemaphore(2)\n",
    "\n",
    "def worker(name):\n",
    "    bounded_semaphore.acquire()\n",
    "    try:\n",
    "        # some task\n",
    "        pass\n",
    "    finally:\n",
    "        bounded_semaphore.release()\n",
    "\n",
    "threads = []\n",
    "for i in range(3):\n",
    "    t = threading.Thread(target=worker, args=(f'Thread-{i}',))\n",
    "    threads.append(t)\n",
    "    t.start()\n",
    "\n",
    "for t in threads:\n",
    "    t.join()\n"
   ]
  },
  {
   "cell_type": "code",
   "execution_count": null,
   "id": "ac26e4fb-9f28-4537-90bb-d7a7178db00a",
   "metadata": {},
   "outputs": [],
   "source": [
    "5. Event (Событие)\n",
    "Описание: Event используется для сигнализации между потоками. Один поток может установить событие, а другие потоки, ожидающие этого события, продолжат выполнение.\n",
    "\n",
    "Использование:"
   ]
  },
  {
   "cell_type": "code",
   "execution_count": null,
   "id": "642eb510-7949-47d2-b0dc-45b941f1532d",
   "metadata": {},
   "outputs": [],
   "source": []
  },
  {
   "cell_type": "code",
   "execution_count": null,
   "id": "a6f8b8cd-f25f-4fd8-a0c6-61c0c0d6e7e7",
   "metadata": {},
   "outputs": [],
   "source": [
    "6. Condition (Условие)\n",
    "Описание: Condition предоставляет более сложный механизм синхронизации, позволяя потокам ждать определённых условий и \n",
    "уведомлять другие потоки о наступлении этих условий. Часто используется для реализации паттерна \"производитель-потребитель\".\n",
    "\n",
    "Использование:"
   ]
  },
  {
   "cell_type": "code",
   "execution_count": null,
   "id": "2660c43e-1674-4054-8396-500bd440112f",
   "metadata": {},
   "outputs": [],
   "source": []
  },
  {
   "cell_type": "code",
   "execution_count": null,
   "id": "27bd73b3-8515-4870-a7fb-58a0630aa283",
   "metadata": {},
   "outputs": [],
   "source": [
    "7. Barrier (Барьер)\n",
    "Описание: Barrier синхронизирует определённое количество потоков, заставляя их ждать, \n",
    "пока все потоки не достигнут барьера. После этого все потоки одновременно продолжают выполнение.\n",
    "\n",
    "Использование:"
   ]
  },
  {
   "cell_type": "code",
   "execution_count": null,
   "id": "1eb7006e-092b-4c30-a99c-994de63155c9",
   "metadata": {},
   "outputs": [],
   "source": [
    "import threading\n",
    "import time\n",
    "\n",
    "barrier = threading.Barrier(3)\n",
    "\n",
    "def worker(name):\n",
    "    print(f'thread {name} arrive first step')\n",
    "    time.sleep(random.uniform(0.5, 2))\n",
    "    print(f'thread {name} arrive barier')\n",
    "    barrier.wait()\n",
    "    print(f'thread {name} continue to work')\n",
    "\n",
    "thread[]\n",
    "for i in range(3):\n",
    "    t = threading.Thread(target=worker, args=(f'thread-{i}',))\n",
    "    threads.append(t)\n",
    "    t.start()\n",
    "\n",
    "for t in threads:\n",
    "    t.join()\n",
    "\n",
    "                                            \n",
    "    \n"
   ]
  },
  {
   "cell_type": "code",
   "execution_count": null,
   "id": "9f6364b6-1714-4a02-82c0-7d83cda033c2",
   "metadata": {},
   "outputs": [],
   "source": [
    "Потокобезопасность, Ограничения Параллелизации и Закон Амдала в Python\n",
    "В многопоточном программировании на Python важны такие концепции, \n",
    "как потокобезопасность, ограничения параллелизации и закон Амдала.\n",
    "Понимание этих концепций помогает создавать\n",
    "эффективные, надежные и масштабируемые приложения."
   ]
  },
  {
   "cell_type": "code",
   "execution_count": null,
   "id": "80c29f4b-339d-4503-8692-a66922f6d31d",
   "metadata": {},
   "outputs": [],
   "source": []
  },
  {
   "cell_type": "code",
   "execution_count": null,
   "id": "8f600069-b61e-4e3d-bcff-1a6fb29466e8",
   "metadata": {},
   "outputs": [],
   "source": [
    "1. Потокобезопасность (Thread Safety)\n",
    "Потокобезопасность означает, что объект или код корректно работают при одновременном доступе из нескольких потоков \n",
    "без возникновения неконсистентного состояния или ошибок. В Python, из-за глобальной блокировки интерпретатора (GIL), потокобезопасность \n",
    "имеет свои особенности, но она остаётся критически важной для разработки многопоточных приложений.\n",
    "\n",
    "Причины Необходимости Потокобезопасности:\n",
    "Гонки данных (Race Conditions): Возникают, когда несколько потоков одновременно изменяют общий ресурс без надлежащей синхронизации.\n",
    "Нестабильное Поведение: Неконтролируемый доступ может привести к непредсказуемым результатам и ошибкам.\n",
    "Способы Обеспечения Потокобезопасности в Python:\n",
    "Использование Блокировок (Locks): Блокировки позволяют ограничить доступ к критическим секциям кода, обеспечивая, что только один\n",
    "поток может выполнять эту секцию одновременно."
   ]
  },
  {
   "cell_type": "code",
   "execution_count": null,
   "id": "90c81768-3e14-4349-8ad3-2d2cc955e9f7",
   "metadata": {},
   "outputs": [],
   "source": []
  },
  {
   "cell_type": "code",
   "execution_count": null,
   "id": "f4f71a45-53f7-41da-9615-ead86e5db830",
   "metadata": {},
   "outputs": [],
   "source": [
    "Использование Модулей Высокого Уровня (Queue): Модуль queue обеспечивает потокобезопасные очереди, которые автоматически управляют синхронизацией между потоками."
   ]
  },
  {
   "cell_type": "code",
   "execution_count": null,
   "id": "330f13f4-621a-408c-8469-ddb2c2ea8fdf",
   "metadata": {},
   "outputs": [],
   "source": []
  },
  {
   "cell_type": "code",
   "execution_count": null,
   "id": "60d5a1db-284e-4311-849a-5aa2da9b1f64",
   "metadata": {},
   "outputs": [],
   "source": [
    "Использование Неизменяемых Объектов: Если объекты неизменяемы (immutable), они безопасны для чтения несколькими потоками без необходимости синхронизации."
   ]
  },
  {
   "cell_type": "code",
   "execution_count": null,
   "id": "16bdfd9e-7cff-404a-bf0a-ea9dbe95a659",
   "metadata": {},
   "outputs": [],
   "source": []
  },
  {
   "cell_type": "code",
   "execution_count": null,
   "id": "720e7ae8-2b25-486f-8123-e42b6d2ccfeb",
   "metadata": {},
   "outputs": [],
   "source": [
    "Пример Потокобезопасного Счетчика:"
   ]
  },
  {
   "cell_type": "code",
   "execution_count": null,
   "id": "9d83ced3-aeda-4964-b914-96178038c7e9",
   "metadata": {},
   "outputs": [],
   "source": []
  },
  {
   "cell_type": "code",
   "execution_count": null,
   "id": "5ab3be9d-5598-4822-8ec6-fba2d9c8c753",
   "metadata": {},
   "outputs": [],
   "source": [
    "2. Ограничения Параллелизации\n",
    "Параллелизация может значительно повысить производительность приложений, но она сталкивается с рядом ограничений, особенно в контексте Python.\n",
    "\n",
    "Основные Ограничения Параллелизации в Python:\n",
    "Глобальная Блокировка Интерпретатора (GIL):\n",
    "\n",
    "Описание: В CPython (стандартная реализация Python) GIL ограничивает выполнение байт-кода Python одним потоком одновременно.\n",
    "Влияние: Многопоточность не обеспечивает реального параллелизма для CPU-bound задач, так как потоки вынуждены чередоваться в выполнении.\n",
    "Решение: Для CPU-bound задач лучше использовать многопроцессность (multiprocessing) или альтернативные реализации Python без GIL (например, Jython, IronPython).\n",
    "Зависимости Между Задачами:\n",
    "\n",
    "Описание: Если задачи зависят друг от друга, параллельное выполнение может быть затруднено.\n",
    "Пример: Задача B зависит от результата задачи A.\n",
    "Влияние: Увеличивает время ожидания и может снизить эффективность параллелизации.\n",
    "Накладные Расходы на Синхронизацию:\n",
    "\n",
    "Описание: Управление доступом к общим ресурсам требует синхронизации, которая добавляет накладные расходы.\n",
    "Влияние: Может снизить общую производительность при большом количестве потоков или процессов.\n",
    "Ограничения Аппаратного Обеспечения:\n",
    "\n",
    "Ядер Процессора: Количество доступных ядер ограничивает максимальное количество параллельных потоков или процессов.\n",
    "Память и Другие Ресурсы: Ограничения по памяти и другим ресурсам могут стать узким местом при масштабировании.\n",
    "Демонстрационные Эффекты (Diminishing Returns):\n",
    "\n",
    "Описание: По мере увеличения числа потоков или процессов прирост производительности уменьшается и может даже стать отрицательным из-за накладных расходов.\n",
    "Пример: При 100 потоках может наблюдаться значительное увеличение накладных расходов по сравнению с 10 потоками.\n",
    "Пример Ограничений GIL:\n",
    "Рассмотрим выполнение CPU-bound задачи с использованием потоков и процессов."
   ]
  },
  {
   "cell_type": "code",
   "execution_count": null,
   "id": "4c060ff5-68b9-431f-896d-11e04a06ce42",
   "metadata": {},
   "outputs": [],
   "source": []
  },
  {
   "cell_type": "code",
   "execution_count": null,
   "id": "1ec51b4b-5710-4d1c-92c3-512c9e67c5f2",
   "metadata": {},
   "outputs": [],
   "source": [
    "Закон Амдала (Amdahl's Law)\n",
    "Закон Амдала описывает теоретический предел ускорения вычислений при использовании параллельных ресурсов. Он показывает, как ускорение отдельных\n",
    "частей программы влияет на общее ускорение.\n",
    "\n",
    "Формула Закона Амдала:\n",
    "S=1/((1-P)+ P/N)\n",
    "\n",
    "S: Общий коэффициент ускорения.\n",
    "P: Доля программы, которая может быть параллелизирована.\n",
    "N: Количество параллельных исполнителей (например, ядер процессора).\n",
    "Интерпретация Закона:\n",
    "Линейное Ускорение: Если вся программа может быть полностью параллелизирована (P = 1), то ускорение будет линейным: S = N.\n",
    "Ограничение: Даже при бесконечном количестве параллельных исполнителей, максимальное ускорение ограничено (1 / (1 - P))."
   ]
  }
 ],
 "metadata": {
  "kernelspec": {
   "display_name": "Python 3 (ipykernel)",
   "language": "python",
   "name": "python3"
  },
  "language_info": {
   "codemirror_mode": {
    "name": "ipython",
    "version": 3
   },
   "file_extension": ".py",
   "mimetype": "text/x-python",
   "name": "python",
   "nbconvert_exporter": "python",
   "pygments_lexer": "ipython3",
   "version": "3.11.7"
  }
 },
 "nbformat": 4,
 "nbformat_minor": 5
}
